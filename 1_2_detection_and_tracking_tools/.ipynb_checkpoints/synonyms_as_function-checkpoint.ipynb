{
 "cells": [
  {
   "cell_type": "code",
   "execution_count": 28,
   "metadata": {},
   "outputs": [],
   "source": [
    "import pandas as pd\n",
    "import numpy as np\n",
    "\n",
    "def merge_synonyms(synonyms_list):\n",
    "    keys = list(synonyms_list[0].keys())\n",
    "    synonyms = {}\n",
    "    for key in keys: \n",
    "        synonyms[key] = set([key])\n",
    "        for synonym_dict in synonyms_list:\n",
    "            if (key in synonym_dict.keys()):\n",
    "                synonyms[key] = synonyms[key].union(synonym_dict[key])\n",
    "            \n",
    "    return synonyms\n",
    "\n",
    "# skip might be used later if we need more constraints \n",
    "def get_synonyms(filepath, skip=1):\n",
    "    track = pd.read_csv(filepath)\n",
    "    track.columns = ['frame', 'id', 'x', 'y', 'w', 'h', 'a', 'b', 'c', 'd', 't']\n",
    "    frames = track['frame'].unique()\n",
    "    frames = frames[::skip]\n",
    "    track = track[track['frame'].isin(frames)]\n",
    "\n",
    "    \n",
    "    synonyms = {0: set([0])}\n",
    "    for boad_id in track['id'].unique():\n",
    "        synonyms[boad_id] = set([boad_id])\n",
    "    \n",
    "    \n",
    "    frames = list(frames)\n",
    "    frames_shifted = frames[:]\n",
    "    frames_shifted.pop(0)\n",
    "    \n",
    "    sizes = []\n",
    "    for frame, frame_shifted in zip(frames[:-1], frames_shifted):\n",
    "        set1 = set(track[track['frame'] == frame]['id'].values)\n",
    "        set2 = set(track[track['frame'] == frame_shifted]['id'].values)\n",
    "\n",
    "        old = list(set1 - set2) # old objects\n",
    "        nuw = list(set2 - set1) # new objects\n",
    "        frame_data = track[track['frame'] == frame]\n",
    "        frame_shifted_data = track[track['frame'] == frame_shifted]\n",
    "\n",
    "        max_overlap = 10\n",
    "        oo = 0\n",
    "        no = 0\n",
    "        for old_object in old:\n",
    "            old_attributes = frame_data[frame_data['id'] == old_object]\n",
    "            ox, oy, ow, oh = int(old_attributes['x']), int(old_attributes['y']), int(old_attributes['w']), int(old_attributes['h'])\n",
    "            for nuw_object in nuw:\n",
    "                nuw_attributes = frame_shifted_data[frame_shifted_data['id'] == nuw_object]\n",
    "                nx, ny, nw, nh = int(nuw_attributes['x']), int(nuw_attributes['y']), int(nuw_attributes['w']), int(nuw_attributes['h'])\n",
    "\n",
    "\n",
    "\n",
    "                img1 = np.zeros((720, 1280))\n",
    "                img2 = np.zeros((720, 1280))\n",
    "                img1[oy: oy+oh, ox: ox+ow] = 1 \n",
    "                img2[ny: ny+nh, nx: nx+nw] = 1\n",
    "\n",
    "                overlap = np.sum(np.multiply(img1, img2))\n",
    "                if overlap > max_overlap:\n",
    "                    oo = old_object\n",
    "                    no = nuw_object\n",
    "                    # I should here remove the new object from the remaining comparsions \n",
    "                    # but leave for now when cleaning the code\n",
    "\n",
    "                synonyms[oo].add(no)\n",
    "                synonyms[no].add(oo)\n",
    "        \n",
    "    return synonyms"
   ]
  },
  {
   "cell_type": "code",
   "execution_count": 67,
   "metadata": {
    "scrolled": false
   },
   "outputs": [
    {
     "name": "stdout",
     "output_type": "stream",
     "text": [
      "{0: 0, 2: 2, 3: 3, 1: 1, 5: 5, 8: 2, 10: 10, 12: 3, 29: 29, 34: 34, 36: 36, 40: 40, 42: 40, 46: 46, 48: 48, 49: 49, 54: 54, 59: 59, 60: 60, 61: 61, 63: 59, 64: 1, 73: 59, 74: 59, 78: 78, 80: 80, 83: 83, 86: 86, 87: 34, 90: 86, 95: 86, 98: 86, 100: 100, 103: 1, 104: 100, 107: 86, 108: 86, 111: 1, 113: 1, 114: 1, 120: 120, 124: 1, 126: 126, 127: 86, 131: 131, 133: 133, 136: 100, 138: 100, 139: 139, 142: 139, 143: 139, 148: 148, 150: 150, 172: 100, 176: 176, 179: 176, 201: 100, 204: 1, 207: 207, 208: 208, 209: 209, 215: 100, 218: 1, 219: 1, 221: 221, 223: 100, 227: 1, 228: 228, 241: 228, 244: 100, 255: 255, 256: 221, 259: 259, 260: 260, 261: 261, 263: 263, 267: 263, 275: 275, 279: 279, 283: 283, 284: 275, 286: 275}\n"
     ]
    }
   ],
   "source": [
    "def get_synonyms121(filepath, skip):\n",
    "    synonyms_list = []\n",
    "    for i in range(1, skip):\n",
    "        synonyms_list.append(get_synonyms(filepath, skip=i))\n",
    "\n",
    "    synonyms = merge_synonyms(synonyms_list)\n",
    "\n",
    "    for key in synonyms.keys():\n",
    "        for b in synonyms[key]:\n",
    "            synonyms[b] = synonyms[b].union(synonyms[key])\n",
    "\n",
    "    temp_synonyms = {}\n",
    "    for key in synonyms.keys():\n",
    "        temp_synonyms[key] = key\n",
    "\n",
    "    for key in synonyms.keys():\n",
    "        temp = list(synonyms[key])[:]\n",
    "\n",
    "        if len(temp) > 1:\n",
    "            for e in temp:\n",
    "                temp_synonyms[e] = min(temp)\n",
    "        \n",
    "    return temp_sysnonyms\n",
    "\n",
    "\n",
    "    \n",
    "print(temp_synonyms)"
   ]
  },
  {
   "cell_type": "code",
   "execution_count": 30,
   "metadata": {},
   "outputs": [
    {
     "data": {
      "text/plain": [
       "{0: {0},\n",
       " 2: {2},\n",
       " 1: {1, 14},\n",
       " 14: {1, 14, 22},\n",
       " 16: {16},\n",
       " 18: {18},\n",
       " 21: {21},\n",
       " 22: {14, 22, 29, 40, 56},\n",
       " 27: {27},\n",
       " 29: {22, 29},\n",
       " 36: {36},\n",
       " 40: {22, 40, 56, 68},\n",
       " 41: {41},\n",
       " 42: {42},\n",
       " 54: {54},\n",
       " 56: {22, 40, 56},\n",
       " 68: {40, 68, 96},\n",
       " 78: {78},\n",
       " 79: {79},\n",
       " 80: {80},\n",
       " 81: {81},\n",
       " 85: {85},\n",
       " 89: {89},\n",
       " 90: {90},\n",
       " 91: {91},\n",
       " 96: {68, 96, 115},\n",
       " 109: {109},\n",
       " 112: {112, 156},\n",
       " 115: {96, 115},\n",
       " 128: {128},\n",
       " 131: {131},\n",
       " 135: {135},\n",
       " 150: {150},\n",
       " 156: {112, 156},\n",
       " 158: {158},\n",
       " 161: {161},\n",
       " 163: {163},\n",
       " 165: {165}}"
      ]
     },
     "execution_count": 30,
     "metadata": {},
     "output_type": "execute_result"
    }
   ],
   "source": [
    "get_synonyms('22.csv', skip=5)"
   ]
  }
 ],
 "metadata": {
  "kernelspec": {
   "display_name": "Python 3",
   "language": "python",
   "name": "python3"
  },
  "language_info": {
   "codemirror_mode": {
    "name": "ipython",
    "version": 3
   },
   "file_extension": ".py",
   "mimetype": "text/x-python",
   "name": "python",
   "nbconvert_exporter": "python",
   "pygments_lexer": "ipython3",
   "version": "3.7.4"
  }
 },
 "nbformat": 4,
 "nbformat_minor": 2
}
